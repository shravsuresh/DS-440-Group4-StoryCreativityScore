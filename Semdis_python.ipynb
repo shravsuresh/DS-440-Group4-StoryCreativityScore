{
 "cells": [
  {
   "cell_type": "code",
   "execution_count": 179,
   "metadata": {},
   "outputs": [],
   "source": [
    "import pyspark\n",
    "import csv"
   ]
  },
  {
   "cell_type": "code",
   "execution_count": 180,
   "metadata": {},
   "outputs": [],
   "source": [
    "from pyspark import SparkContext\n",
    "from pyspark.sql import SparkSession\n",
    "from pyspark.sql.types import StructField, StructType, StringType, LongType, IntegerType, FloatType\n",
    "from pyspark.sql.functions import lower, col, column, regexp_replace, concat_ws, udf\n",
    "from pyspark.sql.functions import expr, size\n",
    "from pyspark.sql.functions import split, trim\n",
    "from pyspark.sql import Row"
   ]
  },
  {
   "cell_type": "code",
   "execution_count": 181,
   "metadata": {},
   "outputs": [],
   "source": [
    "ss=SparkSession.builder.appName(\"Semdis\").getOrCreate()"
   ]
  },
  {
   "cell_type": "code",
   "execution_count": 182,
   "metadata": {},
   "outputs": [
    {
     "name": "stdout",
     "output_type": "stream",
     "text": [
      "root\n",
      " |-- ID: string (nullable = true)\n",
      " |-- EnglishFirstLanguage: string (nullable = true)\n",
      " |-- Story: string (nullable = true)\n",
      " |-- Rater1: integer (nullable = true)\n",
      " |-- Rater2: integer (nullable = true)\n",
      " |-- Rater3: integer (nullable = true)\n",
      " |-- Rater4: double (nullable = true)\n",
      " |-- Rater5: integer (nullable = true)\n",
      " |-- RaterMean: double (nullable = true)\n",
      "\n"
     ]
    },
    {
     "data": {
      "text/plain": [
       "Row(ID='1', EnglishFirstLanguage='n', Story='My lover has left. I miss him so much. I write a letter with his favorite stamp pattern. I send it to an unknown place where he may stay.', Rater1=3, Rater2=3, Rater3=1, Rater4=2.0, Rater5=3, RaterMean=2.4)"
      ]
     },
     "execution_count": 182,
     "metadata": {},
     "output_type": "execute_result"
    }
   ],
   "source": [
    "text_DF = ss.read.csv(\"/storage/home/sqs6406/StoryResults.csv\", header=True, inferSchema=True)\n",
    "text_DF.printSchema()\n",
    "text_DF.first()"
   ]
  },
  {
   "cell_type": "code",
   "execution_count": 183,
   "metadata": {},
   "outputs": [
    {
     "name": "stdout",
     "output_type": "stream",
     "text": [
      "+--------------------+\n",
      "|               Story|\n",
      "+--------------------+\n",
      "|My lover has left...|\n",
      "+--------------------+\n",
      "only showing top 1 row\n",
      "\n"
     ]
    }
   ],
   "source": [
    "text_DF.select(\"Story\").show(1)"
   ]
  },
  {
   "cell_type": "code",
   "execution_count": 184,
   "metadata": {},
   "outputs": [
    {
     "name": "stdout",
     "output_type": "stream",
     "text": [
      "+--------------------+\n",
      "|               Story|\n",
      "+--------------------+\n",
      "|My lover has left...|\n",
      "|My mom was sendin...|\n",
      "+--------------------+\n",
      "only showing top 2 rows\n",
      "\n"
     ]
    }
   ],
   "source": [
    "Story_DF = text_DF.select(\"Story\")\n",
    "Story_DF.show(2)"
   ]
  },
  {
   "cell_type": "code",
   "execution_count": 185,
   "metadata": {},
   "outputs": [
    {
     "name": "stdout",
     "output_type": "stream",
     "text": [
      "+--------------------+\n",
      "|               Story|\n",
      "+--------------------+\n",
      "|my lover has left...|\n",
      "|my mom was sendin...|\n",
      "|i had to buy a st...|\n",
      "|i decided it was ...|\n",
      "|rachel was sittin...|\n",
      "|she finally found...|\n",
      "|once upon a time ...|\n",
      "|i was trying to s...|\n",
      "|kristen wanted to...|\n",
      "|last summer i wro...|\n",
      "|the mob boss had ...|\n",
      "|i used a stamp wi...|\n",
      "|when i received a...|\n",
      "|i want to send a ...|\n",
      "|david needed to s...|\n",
      "|i am living in en...|\n",
      "|i ran into a dile...|\n",
      "|she misses him so...|\n",
      "|in a day in summe...|\n",
      "|the parent was se...|\n",
      "+--------------------+\n",
      "only showing top 20 rows\n",
      "\n"
     ]
    }
   ],
   "source": [
    "def lower_clean_str(x):\n",
    "  punc = '!\"#$%&\\'()*+,-./:;<=>?@[\\\\]^_`{|}~'\n",
    "  lowercased_str = x.lower()\n",
    "  for ch in punc:\n",
    "    lowercased_str = lowercased_str.replace(ch, '')\n",
    "  return lowercased_str\n",
    "def removePunctuation(column):\n",
    "     return trim(lower(regexp_replace(\"Story\",'[^\\sa-zA-Z]', ''))).alias('Story')\n",
    "Trim_DF = Story_DF.withColumn(\"Story\", trim(col(\"Story\")))\n",
    "Strip_DF = Trim_DF.select(removePunctuation(col('Story')))\n",
    "#Strip_DF = Trim_DF.rdd.map(lower_clean_str)\n",
    "Strip_DF.show()"
   ]
  },
  {
   "cell_type": "code",
   "execution_count": 186,
   "metadata": {},
   "outputs": [
    {
     "name": "stdout",
     "output_type": "stream",
     "text": [
      "+--------------------+\n",
      "|               Story|\n",
      "+--------------------+\n",
      "|[my, lover, has, ...|\n",
      "|[my, mom, was, se...|\n",
      "|[i, had, to, buy,...|\n",
      "|[i, decided, it, ...|\n",
      "|[rachel, was, sit...|\n",
      "|[she, finally, fo...|\n",
      "|[once, upon, a, t...|\n",
      "|[i, was, trying, ...|\n",
      "|[kristen, wanted,...|\n",
      "|[last, summer, i,...|\n",
      "|[the, mob, boss, ...|\n",
      "|[i, used, a, stam...|\n",
      "|[when, i, receive...|\n",
      "|[i, want, to, sen...|\n",
      "|[david, needed, t...|\n",
      "|[i, am, living, i...|\n",
      "|[i, ran, into, a,...|\n",
      "|[she, misses, him...|\n",
      "|[in, a, day, in, ...|\n",
      "|[the, parent, was...|\n",
      "+--------------------+\n",
      "only showing top 20 rows\n",
      "\n"
     ]
    }
   ],
   "source": [
    "Story_DF2 = Strip_DF.select(split(col(\"Story\"),\" \").alias(\"Story\"))\n",
    "Story_DF2.show()"
   ]
  },
  {
   "cell_type": "code",
   "execution_count": 187,
   "metadata": {},
   "outputs": [
    {
     "name": "stdout",
     "output_type": "stream",
     "text": [
      "+--------------------+------------+\n",
      "|               Story|Story_Length|\n",
      "+--------------------+------------+\n",
      "|[my, lover, has, ...|          29|\n",
      "|[my, mom, was, se...|          60|\n",
      "|[i, had, to, buy,...|          45|\n",
      "|[i, decided, it, ...|          79|\n",
      "|[rachel, was, sit...|          69|\n",
      "|[she, finally, fo...|          39|\n",
      "|[once, upon, a, t...|          97|\n",
      "|[i, was, trying, ...|          43|\n",
      "|[kristen, wanted,...|          56|\n",
      "|[last, summer, i,...|          65|\n",
      "|[the, mob, boss, ...|          62|\n",
      "|[i, used, a, stam...|          59|\n",
      "|[when, i, receive...|          47|\n",
      "|[i, want, to, sen...|          50|\n",
      "|[david, needed, t...|          16|\n",
      "|[i, am, living, i...|          96|\n",
      "|[i, ran, into, a,...|         104|\n",
      "|[she, misses, him...|          41|\n",
      "|[in, a, day, in, ...|          48|\n",
      "|[the, parent, was...|          39|\n",
      "+--------------------+------------+\n",
      "only showing top 20 rows\n",
      "\n",
      "104\n"
     ]
    }
   ],
   "source": [
    "Count_DF = Story_DF2.select('*', size(\"Story\").alias(\"Story_Length\"))\n",
    "Count_DF.show()\n",
    "max_value = Count_DF.agg({\"Story_Length\": \"max\"}).collect()[0][0]\n",
    "print(max_value)"
   ]
  },
  {
   "cell_type": "code",
   "execution_count": 188,
   "metadata": {},
   "outputs": [],
   "source": [
    "Split_DF = Count_DF.select([Count_DF[\"Story\"][k] for k in range(max_value)])"
   ]
  },
  {
   "cell_type": "code",
   "execution_count": 189,
   "metadata": {},
   "outputs": [
    {
     "name": "stdout",
     "output_type": "stream",
     "text": [
      "+--------+--------+--------+--------+---------+--------+---------+--------+------------+---------+---------+-----------+---------+---------+---------+---------+---------+---------+---------+-----------+---------+---------+-------------+---------+-----------+---------+---------+---------+---------+---------+---------+---------+---------+---------+---------+---------+---------+---------+---------+---------+---------+----------+---------+---------+-----------+---------+---------+---------+---------+---------+---------+-----------+---------+---------+-----------+---------+---------+---------+---------+---------+------------+---------+---------+---------+---------+---------+---------+---------+---------+---------+---------+---------+---------+----------+---------+---------+---------+---------+---------+---------+-----------+---------+---------+---------+---------+---------+---------+---------+---------+---------+---------+---------+---------+------------+---------+---------+---------+---------+---------+---------+----------+----------+----------+----------+\n",
      "|Story[0]|Story[1]|Story[2]|Story[3]| Story[4]|Story[5]| Story[6]|Story[7]|    Story[8]| Story[9]|Story[10]|  Story[11]|Story[12]|Story[13]|Story[14]|Story[15]|Story[16]|Story[17]|Story[18]|  Story[19]|Story[20]|Story[21]|    Story[22]|Story[23]|  Story[24]|Story[25]|Story[26]|Story[27]|Story[28]|Story[29]|Story[30]|Story[31]|Story[32]|Story[33]|Story[34]|Story[35]|Story[36]|Story[37]|Story[38]|Story[39]|Story[40]| Story[41]|Story[42]|Story[43]|  Story[44]|Story[45]|Story[46]|Story[47]|Story[48]|Story[49]|Story[50]|  Story[51]|Story[52]|Story[53]|  Story[54]|Story[55]|Story[56]|Story[57]|Story[58]|Story[59]|   Story[60]|Story[61]|Story[62]|Story[63]|Story[64]|Story[65]|Story[66]|Story[67]|Story[68]|Story[69]|Story[70]|Story[71]|Story[72]| Story[73]|Story[74]|Story[75]|Story[76]|Story[77]|Story[78]|Story[79]|  Story[80]|Story[81]|Story[82]|Story[83]|Story[84]|Story[85]|Story[86]|Story[87]|Story[88]|Story[89]|Story[90]|Story[91]|Story[92]|   Story[93]|Story[94]|Story[95]|Story[96]|Story[97]|Story[98]|Story[99]|Story[100]|Story[101]|Story[102]|Story[103]|\n",
      "+--------+--------+--------+--------+---------+--------+---------+--------+------------+---------+---------+-----------+---------+---------+---------+---------+---------+---------+---------+-----------+---------+---------+-------------+---------+-----------+---------+---------+---------+---------+---------+---------+---------+---------+---------+---------+---------+---------+---------+---------+---------+---------+----------+---------+---------+-----------+---------+---------+---------+---------+---------+---------+-----------+---------+---------+-----------+---------+---------+---------+---------+---------+------------+---------+---------+---------+---------+---------+---------+---------+---------+---------+---------+---------+---------+----------+---------+---------+---------+---------+---------+---------+-----------+---------+---------+---------+---------+---------+---------+---------+---------+---------+---------+---------+---------+------------+---------+---------+---------+---------+---------+---------+----------+----------+----------+----------+\n",
      "|      my|   lover|     has|    left|        i|    miss|      him|      so|        much|        i|    write|          a|   letter|     with|      his| favorite|    stamp|  pattern|        i|       send|       it|       to|           an|  unknown|      place|    where|       he|      may|     stay|     null|     null|     null|     null|     null|     null|     null|     null|     null|     null|     null|     null|      null|     null|     null|       null|     null|     null|     null|     null|     null|     null|       null|     null|     null|       null|     null|     null|     null|     null|     null|        null|     null|     null|     null|     null|     null|     null|     null|     null|     null|     null|     null|     null|      null|     null|     null|     null|     null|     null|     null|       null|     null|     null|     null|     null|     null|     null|     null|     null|     null|     null|     null|     null|        null|     null|     null|     null|     null|     null|     null|      null|      null|      null|      null|\n",
      "|      my|     mom|     was| sending|       me|       a|   letter|      in|         the|     mail|    about|        how|      she|    wants|       me|       to|     come|     home|      she|        ran|      out|       of|       stamps|      and|        had|       to|       go|       to|      the|     post|   office|    while|       on|      the|      way|       to|      the|     post|   office| godzilla|      and|       god|     were|   having|          a|    fight|      she|     made|       it|       to|      the|       post|   office|   bought|     stamps|      and|    could|     send|      the|   letter|        null|     null|     null|     null|     null|     null|     null|     null|     null|     null|     null|     null|     null|      null|     null|     null|     null|     null|     null|     null|       null|     null|     null|     null|     null|     null|     null|     null|     null|     null|     null|     null|     null|        null|     null|     null|     null|     null|     null|     null|      null|      null|      null|      null|\n",
      "|       i|     had|      to|     buy|        a|   stamp|       at|     the|        post|   office|        i|         am|    going|       to|     send|       my|  brother|        a|  package|         in|      the|     mail|      because|        i|       miss|      him|      and|   havent|     seen|      him|       in|  forever|       in|      the|  package|       im|  sending|      him|        a|   letter|       of|everything|        i|     have|experienced|     null|     null|     null|     null|     null|     null|       null|     null|     null|       null|     null|     null|     null|     null|     null|        null|     null|     null|     null|     null|     null|     null|     null|     null|     null|     null|     null|     null|      null|     null|     null|     null|     null|     null|     null|       null|     null|     null|     null|     null|     null|     null|     null|     null|     null|     null|     null|     null|        null|     null|     null|     null|     null|     null|     null|      null|      null|      null|      null|\n",
      "|       i| decided|      it|     was|     time|     for|       me|      to|        send|       my|      mom|        and|      dad|        a|   letter|        i|     have|     been|       at|  overnight|     camp|      for|          the|     past|        six|    weeks|      and|     have|      not|     sent|     them|      one|   letter|     home|   whoops|     they|    write|       to|       me|    every|    night|   however|        i|    never|    respond|  because|     they|      can|      see|        i|       am|     having|      fun|     from|        the| pictures|   posted|   online|      the|      one|        time|        i|       go|       to|    write|     them|       of|   course|        i|       do|      not|     have|        a|     stamp|    guess|       it|       is|        a|     sign|     null|       null|     null|     null|     null|     null|     null|     null|     null|     null|     null|     null|     null|     null|        null|     null|     null|     null|     null|     null|     null|      null|      null|      null|      null|\n",
      "|  rachel|     was| sitting|      in|      her|    dorm|      and| decided|          to|    write|      her|     friend|     abby|        a|   letter|      and|     send|       it|       in|        the|     mail|       to|         abby|       at|        her|   school|       in|wisconsin|     once|      she| finished|      the|   letter|      she|     went|       to|      the|     post|   office|       to|      get|         a|    stamp|      for|        the|   letter|     once|      she|      got|      the|    stamp|        the|   letter|      was|        all|    ready|       to|     send|       to|      her|      friend|       it|      was|    going|       to|       be|        a| complete| surprise|     null|     null|     null|     null|      null|     null|     null|     null|     null|     null|     null|       null|     null|     null|     null|     null|     null|     null|     null|     null|     null|     null|     null|     null|        null|     null|     null|     null|     null|     null|     null|      null|      null|      null|      null|\n",
      "|     she| finally|   found|     the|    stamp|    that|      she|  needed|         she|assembled|      her|     letter|      and|      was|    ready|       to|     send|       it|   unsure|         if|      she|    would|          get|        a|   response|      she|    still|   placed|       it|     into|      her|  mailbox|      all|      she|    could|       do|      now|      was|     wait|     null|     null|      null|     null|     null|       null|     null|     null|     null|     null|     null|     null|       null|     null|     null|       null|     null|     null|     null|     null|     null|        null|     null|     null|     null|     null|     null|     null|     null|     null|     null|     null|     null|     null|      null|     null|     null|     null|     null|     null|     null|       null|     null|     null|     null|     null|     null|     null|     null|     null|     null|     null|     null|     null|        null|     null|     null|     null|     null|     null|     null|      null|      null|      null|      null|\n",
      "|    once|    upon|       a|    time|    there|     was|        a|   stamp|         his|     name|      was|     herold|   herold|      was|     only|        a|   little|    stamp|     just|          a|     baby|      but|           he|      was|    nervous|    about|      the|   future|      his|   mother|      and|   father|      and|      two|    older| brothers|     were|  already|      set|       on|  letters|       and|       he|      was|        the|     last|       to|       be|   chosen|      his|   mother|        was|        a|   strong|independent|    stamp|      she|      got|   chosen|       to|          be|     used|      for|      the|   letter|     sent|       to| congress|    about|      the|  changes|     that|   needed|        to|       be|     made|       in|      the|     town|       of|gardenville|      the|     town|     they|     were|  created|     what|      was|      his|  destiny|     what|      was|      his|      letter|    going|       to|       be|     null|     null|     null|      null|      null|      null|      null|\n",
      "|       i|     was|  trying|      to|     send|       a|   letter|      to|          my|  parents|      but|        the|  mailman|     wont|      let|       me|        i|     keep|   asking|        why|      but|       he|         wont|   answer|          i|     need|       to|      get|     this|   letter|       to|       my|  parents|   before|        i|    leave|     then|        i| realized|        i|   forgot|       the|    stamp|     null|       null|     null|     null|     null|     null|     null|     null|       null|     null|     null|       null|     null|     null|     null|     null|     null|        null|     null|     null|     null|     null|     null|     null|     null|     null|     null|     null|     null|     null|      null|     null|     null|     null|     null|     null|     null|       null|     null|     null|     null|     null|     null|     null|     null|     null|     null|     null|     null|     null|        null|     null|     null|     null|     null|     null|     null|      null|      null|      null|      null|\n",
      "| kristen|  wanted|      to|    send|        a|  letter|       to|     her|   boyfriend|     mike|       so|        she|    asked|      her|     dorm| building|    floor|       if|   anyone|        had|        a|    stamp|          her|     next|       door| neighbor|    sarah|      had|      one|      and|  knocked|       on| kristens|     door|       to|     give|      her|      the|    stamp|      she|     then|       got|       to|  writing|        her|heartfelt|   letter|       to|      her|boyfriend|      who|        was|       at|      the|      naval|  academy|     null|     null|     null|     null|        null|     null|     null|     null|     null|     null|     null|     null|     null|     null|     null|     null|     null|      null|     null|     null|     null|     null|     null|     null|       null|     null|     null|     null|     null|     null|     null|     null|     null|     null|     null|     null|     null|        null|     null|     null|     null|     null|     null|     null|      null|      null|      null|      null|\n",
      "|    last|  summer|       i|   wrote|        a|  letter|     from|    camp|          to|       my|   family|      about|      how|     much|        i|   missed|     them|        i|     took|         my|     very|     last|        stamp|      and|        put|       it|       on|      the|   corner|       of|       my|   letter|     when|        i|      was|  walking|       to|      the|  mailbox|       to|     send|        it|       to|     them|          i|  tripped|      and|  dropped|      the|   letter|       it|       blew|     away|       in|        the|     wind|      and|        i|    never|      got|          to|     send|       it|       to|     them|     null|     null|     null|     null|     null|     null|     null|     null|      null|     null|     null|     null|     null|     null|     null|       null|     null|     null|     null|     null|     null|     null|     null|     null|     null|     null|     null|     null|        null|     null|     null|     null|     null|     null|     null|      null|      null|      null|      null|\n",
      "|     the|     mob|    boss|     had|     just|finished| stamping|     the| resignation|     form|       of|        his|   worker|     soon|   enough|      the|     boss|     knew|       he|      would|     have|       to|         send|        a|      cover|       up|   letter|       to|      his|  workers|   family|       to|   notify|     them|     that|       he|    would|      not|       be|returning|     home|   anytime|     soon|         |         he|      was|        a|     good|      man|      but|   should|       have|    known|   better|       than|       to|     defy|  someone|       of|     such|        high| standing|     null|     null|     null|     null|     null|     null|     null|     null|     null|     null|     null|      null|     null|     null|     null|     null|     null|     null|       null|     null|     null|     null|     null|     null|     null|     null|     null|     null|     null|     null|     null|        null|     null|     null|     null|     null|     null|     null|      null|      null|      null|      null|\n",
      "|       i|    used|       a|   stamp|     with|       a|butterfly|      on|          it|        i|      put|        the|butterfly|    stamp|       on|        a|   letter|    which|        i|     wanted|       to|     send|           to|       my|grandmother|        i|      put|       it|       in|       my| backpack|       to|     drop|      off|       at|        a|  mailbox|      but|   forgot|    about|       it|       for|     many|   months|          i|    never|     sent|      the|   letter|       to|       my|grandmother|       so|        i|       went|       to|    visit|      her|  instead|     null|        null|     null|     null|     null|     null|     null|     null|     null|     null|     null|     null|     null|     null|      null|     null|     null|     null|     null|     null|     null|       null|     null|     null|     null|     null|     null|     null|     null|     null|     null|     null|     null|     null|        null|     null|     null|     null|     null|     null|     null|      null|      null|      null|      null|\n",
      "|    when|       i|received|       a|   letter|    from|       my|  sister|      asking|      how|        i|        was|    doing|        i|   wanted|       to|     send|      one|     back|         to|      her|        i|        wrote|       to|        her|  telling|      her|        i|      was|     well|        i|      put|        a|    stamp|       on|      the| envelope|      and|      was|     able|       to|      send|       it|      out|        the|     next|      day|     null|     null|     null|     null|       null|     null|     null|       null|     null|     null|     null|     null|     null|        null|     null|     null|     null|     null|     null|     null|     null|     null|     null|     null|     null|     null|      null|     null|     null|     null|     null|     null|     null|       null|     null|     null|     null|     null|     null|     null|     null|     null|     null|     null|     null|     null|        null|     null|     null|     null|     null|     null|     null|      null|      null|      null|      null|\n",
      "|       i|    want|      to|    send|        a|  letter|       to|      my|         mom|      she|    lives|        far|     away|      and|        i|     miss|      her|        a|      lot|      today|        i|     will|        write|      the|     letter|      and|       go|       to|      the|     post|   office|       to|      buy|        a|    stamp|      she|   should|  receive|      the|   letter|       in|         a|   couple|       of|       days|      and|     will|       be|     very|    happy|     null|       null|     null|     null|       null|     null|     null|     null|     null|     null|        null|     null|     null|     null|     null|     null|     null|     null|     null|     null|     null|     null|     null|      null|     null|     null|     null|     null|     null|     null|       null|     null|     null|     null|     null|     null|     null|     null|     null|     null|     null|     null|     null|        null|     null|     null|     null|     null|     null|     null|      null|      null|      null|      null|\n",
      "|   david|  needed|      to|    send|        a|  letter|       he|    went|          to|      the|     post|     office|       to|      buy|        a|    stamp|     null|     null|     null|       null|     null|     null|         null|     null|       null|     null|     null|     null|     null|     null|     null|     null|     null|     null|     null|     null|     null|     null|     null|     null|     null|      null|     null|     null|       null|     null|     null|     null|     null|     null|     null|       null|     null|     null|       null|     null|     null|     null|     null|     null|        null|     null|     null|     null|     null|     null|     null|     null|     null|     null|     null|     null|     null|      null|     null|     null|     null|     null|     null|     null|       null|     null|     null|     null|     null|     null|     null|     null|     null|     null|     null|     null|     null|        null|     null|     null|     null|     null|     null|     null|      null|      null|      null|      null|\n",
      "|       i|      am|  living|      in|  england|     and|  because|      my|grandparents|     used|       to|       live|     here|        i|  decided|        i|    would|     send|     them|          a|   letter|      all|          the|   places|          i|     have|  visited|    since|        i|     have|     been|     here|      are|   places|     that|     they|     used|       to|    spend|    their|childhood|     lives| visiting|      and|    passing|       on|      the|  streets|        i|       am|     only|       here|      for|        a|      short|     time|  because|        i|     have|       to|      return|     back|       to|  america|       to|   resume|       my|  college|   career|     back|       at|     penn|    state|university|        i|     went|     into|     this|      one|    store|        and|   bought|        a|     post|     card|      and|        a|      few|   stamps|       to|     mail|       to|       my|grandparents|     back|     home|     null|     null|     null|     null|      null|      null|      null|      null|\n",
      "|       i|     ran|    into|       a|  dilemma| because|        i| ordered|         new|  cheetah|     vans|        you|     know|      the|    shoes|      but|     they|     were|      way|        too|     much|       an|uncomfortable|        i|     called|       my|      mom|       to|      ask|      how|       to|   return|     them|  because|      she|    would|  usually|       do|       it|      for|       me|       but|        i|       am|          a|  college|  student|      now|       no|   longer|  relying|         on|      mom|       to|         do|      the|      job|        i| followed|      her|instructions|      and|     went|       on|        a|      bus|       to|      the|     post|   office|       he|    stamp|       my|   package|      and|     sent|       it|      out|       to|   return|       back|       to|      the|    store|      and|      now|     here|        i|       am|  writing|       my|   sister|        a|      letter|       to|   update|      her|       on|      how|  college|        is|       not|      that|    simple|\n",
      "|     she|  misses|     him|      so|     much|     she|    leans|      on|         the|     door|      and|     stares|       at|      the|mountains| everyday|  finally|       on|        a|     bright|afternoon|      the|       letter|     sent|         by|      him|     from|        a|     very|   remote|    place|  arrived|      her|    tears|     fell|       on|      the|    stamp|      and| wettened|       it|      null|     null|     null|       null|     null|     null|     null|     null|     null|     null|       null|     null|     null|       null|     null|     null|     null|     null|     null|        null|     null|     null|     null|     null|     null|     null|     null|     null|     null|     null|     null|     null|      null|     null|     null|     null|     null|     null|     null|       null|     null|     null|     null|     null|     null|     null|     null|     null|     null|     null|     null|     null|        null|     null|     null|     null|     null|     null|     null|      null|      null|      null|      null|\n",
      "|      in|       a|     day|      in|   summer|   sandy|     sent|       a|      letter|       to|      his|grandfather|      she|      was|       on|      her|      way|       to|      the|supermarket|      and|     then|          she|    would|       send|      her|   letter|  however|       on|      the|      way|      she|     sent|      her|   letter|      she|  stamped|      and|     then|      her|   letter|      lost|      she|    cried|        for|        a|     long|     time|     null|     null|     null|       null|     null|     null|       null|     null|     null|     null|     null|     null|        null|     null|     null|     null|     null|     null|     null|     null|     null|     null|     null|     null|     null|      null|     null|     null|     null|     null|     null|     null|       null|     null|     null|     null|     null|     null|     null|     null|     null|     null|     null|     null|     null|        null|     null|     null|     null|     null|     null|     null|      null|      null|      null|      null|\n",
      "|     the|  parent|     was| sending|something|      to|    their| student|        they|      put|        a|      stamp|       on|       it|      and|      put|       it|       in|      the|        box|       to|     send|         when|      the|    student|      got|       it|      she|      saw|       it|      was|        a|   letter|      she|      was|        a|     very|    happy|  student|     null|     null|      null|     null|     null|       null|     null|     null|     null|     null|     null|     null|       null|     null|     null|       null|     null|     null|     null|     null|     null|        null|     null|     null|     null|     null|     null|     null|     null|     null|     null|     null|     null|     null|      null|     null|     null|     null|     null|     null|     null|       null|     null|     null|     null|     null|     null|     null|     null|     null|     null|     null|     null|     null|        null|     null|     null|     null|     null|     null|     null|      null|      null|      null|      null|\n",
      "+--------+--------+--------+--------+---------+--------+---------+--------+------------+---------+---------+-----------+---------+---------+---------+---------+---------+---------+---------+-----------+---------+---------+-------------+---------+-----------+---------+---------+---------+---------+---------+---------+---------+---------+---------+---------+---------+---------+---------+---------+---------+---------+----------+---------+---------+-----------+---------+---------+---------+---------+---------+---------+-----------+---------+---------+-----------+---------+---------+---------+---------+---------+------------+---------+---------+---------+---------+---------+---------+---------+---------+---------+---------+---------+---------+----------+---------+---------+---------+---------+---------+---------+-----------+---------+---------+---------+---------+---------+---------+---------+---------+---------+---------+---------+---------+------------+---------+---------+---------+---------+---------+---------+----------+----------+----------+----------+\n",
      "only showing top 20 rows\n",
      "\n"
     ]
    }
   ],
   "source": [
    "Split_DF.show()"
   ]
  },
  {
   "cell_type": "code",
   "execution_count": 194,
   "metadata": {},
   "outputs": [],
   "source": [
    "Split_DF.write.csv('Words.csv')"
   ]
  },
  {
   "cell_type": "code",
   "execution_count": null,
   "metadata": {},
   "outputs": [],
   "source": []
  }
 ],
 "metadata": {
  "kernelspec": {
   "display_name": "Python 3",
   "language": "python",
   "name": "python3"
  },
  "language_info": {
   "codemirror_mode": {
    "name": "ipython",
    "version": 3
   },
   "file_extension": ".py",
   "mimetype": "text/x-python",
   "name": "python",
   "nbconvert_exporter": "python",
   "pygments_lexer": "ipython3",
   "version": "3.8.3"
  }
 },
 "nbformat": 4,
 "nbformat_minor": 4
}
